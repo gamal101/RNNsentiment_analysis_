{
  "nbformat": 4,
  "nbformat_minor": 0,
  "metadata": {
    "colab": {
      "provenance": [],
      "gpuType": "T4",
      "authorship_tag": "ABX9TyOv2XCXzg5DSz+zWH7LKIdd",
      "include_colab_link": true
    },
    "kernelspec": {
      "name": "python3",
      "display_name": "Python 3"
    },
    "language_info": {
      "name": "python"
    },
    "accelerator": "GPU"
  },
  "cells": [
    {
      "cell_type": "markdown",
      "metadata": {
        "id": "view-in-github",
        "colab_type": "text"
      },
      "source": [
        "<a href=\"https://colab.research.google.com/github/gamal101/RNNsentiment_analysis_/blob/main/RNN_sentiment_analysis_.ipynb\" target=\"_parent\"><img src=\"https://colab.research.google.com/assets/colab-badge.svg\" alt=\"Open In Colab\"/></a>"
      ]
    },
    {
      "cell_type": "code",
      "source": [
        "import pandas as pd\n",
        "import numpy as np\n",
        "import tensorflow as tf\n",
        "from tensorflow.keras.preprocessing.text import Tokenizer\n",
        "from tensorflow.keras.preprocessing.sequence import pad_sequences\n",
        "from sklearn.model_selection import train_test_split\n",
        "import kagglehub\n",
        "import os\n",
        "\n",
        "# Download latest version\n",
        "df_path = kagglehub.dataset_download(\"astandrik/yelp-review\")\n",
        "\n",
        "print(\"Path to dataset files:\", df_path)\n",
        "\n",
        "# Find the CSV file within the downloaded directory\n",
        "for filename in os.listdir(df_path):\n",
        "    if filename.endswith(\".csv\"):\n",
        "        csv_file_path = os.path.join(df_path, filename)\n",
        "        break  # Stop searching once found\n",
        "\n",
        "# Load the dataset into a pandas DataFrame\n",
        "df = pd.read_csv(csv_file_path)\n",
        "\n",
        "# Keep only necessary columns\n",
        "df = df[['text', 'stars']]\n",
        "\n",
        "# Convert ratings to binary sentiment (1-2 stars → Negative, 4-5 stars → Positive)\n",
        "df = df[df['stars'] != 3]  # Remove neutral reviews\n",
        "df['sentiment'] = df['stars'].apply(lambda x: 1 if x > 3 else 0)\n",
        "\n",
        "# Sample 10,000 reviews, or the maximum available if fewer\n",
        "sample_size = min(10000, len(df))  # Get the smaller value between 10,000 and the available data\n",
        "df = df.sample(sample_size, random_state=42)\n",
        "\n",
        "# Split into train & test\n",
        "X_train, X_test, y_train, y_test = train_test_split(df['text'], df['sentiment'], test_size=0.2, random_state=42)\n",
        "\n",
        "print(f\"Training samples: {len(X_train)}, Testing samples: {len(X_test)}\")\n",
        "\n",
        "# Hyperparameters\n",
        "MAX_VOCAB = 10000  # Number of unique words\n",
        "MAX_LEN = 100  # Max sequence length\n",
        "\n",
        "# Tokenization\n",
        "tokenizer = Tokenizer(num_words=MAX_VOCAB, oov_token=\"<OOV>\")\n",
        "tokenizer.fit_on_texts(X_train)\n",
        "\n",
        "X_train_seq = tokenizer.texts_to_sequences(X_train)\n",
        "X_test_seq = tokenizer.texts_to_sequences(X_test)\n",
        "\n",
        "# Padding sequences\n",
        "X_train_pad = pad_sequences(X_train_seq, maxlen=MAX_LEN, padding='post', truncating='post')\n",
        "X_test_pad = pad_sequences(X_test_seq, maxlen=MAX_LEN, padding='post', truncating='post')\n",
        "\n",
        "print(f\"Padded sample: {X_train_pad[0]}\")\n",
        "\n",
        "# Import necessary layers\n",
        "from tensorflow.keras.models import Sequential\n",
        "from tensorflow.keras.layers import Embedding, SimpleRNN, Dense\n",
        "from tensorflow.keras.optimizers import Adam\n",
        "from tensorflow.keras.regularizers import L2\n",
        "from tensorflow.keras.callbacks import EarlyStopping, ReduceLROnPlateau\n",
        "\n",
        "# Define the model\n",
        "model = Sequential([\n",
        "    Embedding(MAX_VOCAB, 64, input_length=MAX_LEN),  # Embedding layer\n",
        "    SimpleRNN(64, return_sequences=False, kernel_regularizer=L2(0.001)),  # L2 Regularization to reduce overfitting\n",
        "    Dense(1, activation='sigmoid')  # Output layer for binary classification\n",
        "])\n",
        "\n",
        "# Compile model with lower learning rate\n",
        "model.compile(loss='binary_crossentropy', optimizer=Adam(learning_rate=0.0005), metrics=['accuracy'])\n",
        "\n",
        "# Callbacks for early stopping and learning rate reduction\n",
        "early_stop = EarlyStopping(monitor='val_loss', patience=3, restore_best_weights=True)\n",
        "reduce_lr = ReduceLROnPlateau(monitor='val_loss', factor=0.5, patience=2, verbose=1)\n",
        "\n",
        "# Train the model\n",
        "history = model.fit(\n",
        "    X_train_pad, y_train,\n",
        "    validation_data=(X_test_pad, y_test),\n",
        "    epochs=20, batch_size=32,\n",
        "    callbacks=[early_stop, reduce_lr]\n",
        ")\n",
        "\n",
        "# Save the trained model\n",
        "model.save(\"simple_rnn_yelp_sentiment.h5\")\n",
        "\n",
        "print(\"Model training complete and saved as simple_rnn_yelp_sentiment.h5\")\n"
      ],
      "metadata": {
        "colab": {
          "base_uri": "https://localhost:8080/"
        },
        "id": "znxovHzucFwU",
        "outputId": "9e54cd68-a586-47e9-a69f-91e84b8f9614"
      },
      "execution_count": 12,
      "outputs": [
        {
          "output_type": "stream",
          "name": "stdout",
          "text": [
            "Path to dataset files: /root/.cache/kagglehub/datasets/astandrik/yelp-review/versions/1\n",
            "Training samples: 6831, Testing samples: 1708\n",
            "Padded sample: [   4   56  296 1773  372    1    5   28   12   34   30   57  661    3\n",
            "  896   45  133 1134    7  235  779   17  432   44    7  257  372   17\n",
            "    9    5  386 1689   71   23   55    2  200   44   13   93  297 2147\n",
            "    9   10   55    2   52    4    8 2028 3355   15   14 1446    3   24\n",
            "    6 4941  335   88   91 2582   11    5 1188 1135    3    1   53  193\n",
            "    1  766   15  319   17    9   55    2 2727   13 2234    2  142   53\n",
            "   14  481    3    4  608   27    2 7766  284   10    8 1514   11    2\n",
            "  670  161]\n",
            "Epoch 1/20\n"
          ]
        },
        {
          "output_type": "stream",
          "name": "stderr",
          "text": [
            "/usr/local/lib/python3.11/dist-packages/keras/src/layers/core/embedding.py:90: UserWarning: Argument `input_length` is deprecated. Just remove it.\n",
            "  warnings.warn(\n"
          ]
        },
        {
          "output_type": "stream",
          "name": "stdout",
          "text": [
            "\u001b[1m214/214\u001b[0m \u001b[32m━━━━━━━━━━━━━━━━━━━━\u001b[0m\u001b[37m\u001b[0m \u001b[1m7s\u001b[0m 17ms/step - accuracy: 0.7912 - loss: 0.5699 - val_accuracy: 0.8009 - val_loss: 0.5333 - learning_rate: 5.0000e-04\n",
            "Epoch 2/20\n",
            "\u001b[1m214/214\u001b[0m \u001b[32m━━━━━━━━━━━━━━━━━━━━\u001b[0m\u001b[37m\u001b[0m \u001b[1m3s\u001b[0m 10ms/step - accuracy: 0.8097 - loss: 0.4978 - val_accuracy: 0.8273 - val_loss: 0.4801 - learning_rate: 5.0000e-04\n",
            "Epoch 3/20\n",
            "\u001b[1m214/214\u001b[0m \u001b[32m━━━━━━━━━━━━━━━━━━━━\u001b[0m\u001b[37m\u001b[0m \u001b[1m3s\u001b[0m 10ms/step - accuracy: 0.8695 - loss: 0.3870 - val_accuracy: 0.8244 - val_loss: 0.4702 - learning_rate: 5.0000e-04\n",
            "Epoch 4/20\n",
            "\u001b[1m214/214\u001b[0m \u001b[32m━━━━━━━━━━━━━━━━━━━━\u001b[0m\u001b[37m\u001b[0m \u001b[1m2s\u001b[0m 10ms/step - accuracy: 0.9077 - loss: 0.2930 - val_accuracy: 0.8507 - val_loss: 0.4148 - learning_rate: 5.0000e-04\n",
            "Epoch 5/20\n",
            "\u001b[1m214/214\u001b[0m \u001b[32m━━━━━━━━━━━━━━━━━━━━\u001b[0m\u001b[37m\u001b[0m \u001b[1m2s\u001b[0m 9ms/step - accuracy: 0.9399 - loss: 0.2176 - val_accuracy: 0.8548 - val_loss: 0.4309 - learning_rate: 5.0000e-04\n",
            "Epoch 6/20\n",
            "\u001b[1m214/214\u001b[0m \u001b[32m━━━━━━━━━━━━━━━━━━━━\u001b[0m\u001b[37m\u001b[0m \u001b[1m2s\u001b[0m 9ms/step - accuracy: 0.9528 - loss: 0.1902 - val_accuracy: 0.8730 - val_loss: 0.3944 - learning_rate: 5.0000e-04\n",
            "Epoch 7/20\n",
            "\u001b[1m214/214\u001b[0m \u001b[32m━━━━━━━━━━━━━━━━━━━━\u001b[0m\u001b[37m\u001b[0m \u001b[1m2s\u001b[0m 9ms/step - accuracy: 0.9542 - loss: 0.1842 - val_accuracy: 0.8612 - val_loss: 0.4692 - learning_rate: 5.0000e-04\n",
            "Epoch 8/20\n",
            "\u001b[1m210/214\u001b[0m \u001b[32m━━━━━━━━━━━━━━━━━━━\u001b[0m\u001b[37m━\u001b[0m \u001b[1m0s\u001b[0m 8ms/step - accuracy: 0.9618 - loss: 0.1579\n",
            "Epoch 8: ReduceLROnPlateau reducing learning rate to 0.0002500000118743628.\n",
            "\u001b[1m214/214\u001b[0m \u001b[32m━━━━━━━━━━━━━━━━━━━━\u001b[0m\u001b[37m\u001b[0m \u001b[1m2s\u001b[0m 9ms/step - accuracy: 0.9617 - loss: 0.1582 - val_accuracy: 0.8589 - val_loss: 0.4723 - learning_rate: 5.0000e-04\n",
            "Epoch 9/20\n",
            "\u001b[1m214/214\u001b[0m \u001b[32m━━━━━━━━━━━━━━━━━━━━\u001b[0m\u001b[37m\u001b[0m \u001b[1m2s\u001b[0m 10ms/step - accuracy: 0.9762 - loss: 0.1204 - val_accuracy: 0.8653 - val_loss: 0.4397 - learning_rate: 2.5000e-04\n"
          ]
        },
        {
          "output_type": "stream",
          "name": "stderr",
          "text": [
            "WARNING:absl:You are saving your model as an HDF5 file via `model.save()` or `keras.saving.save_model(model)`. This file format is considered legacy. We recommend using instead the native Keras format, e.g. `model.save('my_model.keras')` or `keras.saving.save_model(model, 'my_model.keras')`. \n"
          ]
        },
        {
          "output_type": "stream",
          "name": "stdout",
          "text": [
            "Model training complete and saved as simple_rnn_yelp_sentiment.h5\n"
          ]
        }
      ]
    },
    {
      "cell_type": "code",
      "source": [
        "# Load the trained model\n",
        "model = tf.keras.models.load_model(\"simple_rnn_yelp_sentiment.h5\")\n",
        "\n",
        "# Evaluate the model on the test set\n",
        "test_loss, test_accuracy = model.evaluate(X_test_pad, y_test)\n",
        "\n",
        "print(f\"Test Loss: {test_loss:.4f}\")\n",
        "print(f\"Test Accuracy: {test_accuracy:.4f}\")\n"
      ],
      "metadata": {
        "colab": {
          "base_uri": "https://localhost:8080/"
        },
        "id": "-f6WeDv0cHZi",
        "outputId": "80a9ab13-d74d-4ba8-a851-0cb83d7681ec"
      },
      "execution_count": 13,
      "outputs": [
        {
          "output_type": "stream",
          "name": "stderr",
          "text": [
            "WARNING:absl:Compiled the loaded model, but the compiled metrics have yet to be built. `model.compile_metrics` will be empty until you train or evaluate the model.\n"
          ]
        },
        {
          "output_type": "stream",
          "name": "stdout",
          "text": [
            "\u001b[1m54/54\u001b[0m \u001b[32m━━━━━━━━━━━━━━━━━━━━\u001b[0m\u001b[37m\u001b[0m \u001b[1m1s\u001b[0m 11ms/step - accuracy: 0.8757 - loss: 0.3760\n",
            "Test Loss: 0.3944\n",
            "Test Accuracy: 0.8730\n"
          ]
        }
      ]
    },
    {
      "cell_type": "code",
      "source": [
        "from sklearn.metrics import classification_report\n",
        "\n",
        "# Predict sentiment on test data\n",
        "y_pred_probs = model.predict(X_test_pad)  # Get probabilities\n",
        "y_pred = (y_pred_probs > 0.5).astype(int)  # Convert probabilities to binary labels\n",
        "\n",
        "# Print classification report\n",
        "print(classification_report(y_test, y_pred))\n"
      ],
      "metadata": {
        "colab": {
          "base_uri": "https://localhost:8080/"
        },
        "id": "nj6NfNgCcXRK",
        "outputId": "a8ee5f10-5494-48e4-d289-7788912bee65"
      },
      "execution_count": 14,
      "outputs": [
        {
          "output_type": "stream",
          "name": "stdout",
          "text": [
            "\u001b[1m54/54\u001b[0m \u001b[32m━━━━━━━━━━━━━━━━━━━━\u001b[0m\u001b[37m\u001b[0m \u001b[1m1s\u001b[0m 16ms/step\n",
            "              precision    recall  f1-score   support\n",
            "\n",
            "           0       0.76      0.53      0.63       340\n",
            "           1       0.89      0.96      0.92      1368\n",
            "\n",
            "    accuracy                           0.87      1708\n",
            "   macro avg       0.82      0.74      0.77      1708\n",
            "weighted avg       0.87      0.87      0.86      1708\n",
            "\n"
          ]
        }
      ]
    },
    {
      "cell_type": "code",
      "source": [
        "import seaborn as sns\n",
        "import matplotlib.pyplot as plt\n",
        "from sklearn.metrics import confusion_matrix\n",
        "\n",
        "# Compute confusion matrix\n",
        "cm = confusion_matrix(y_test, y_pred)\n",
        "\n",
        "# Plot heatmap\n",
        "plt.figure(figsize=(6,5))\n",
        "sns.heatmap(cm, annot=True, fmt=\"d\", cmap=\"Blues\", xticklabels=['Negative', 'Positive'], yticklabels=['Negative', 'Positive'])\n",
        "plt.xlabel(\"Predicted Label\")\n",
        "plt.ylabel(\"True Label\")\n",
        "plt.title(\"Confusion Matrix\")\n",
        "plt.show()\n"
      ],
      "metadata": {
        "colab": {
          "base_uri": "https://localhost:8080/",
          "height": 487
        },
        "id": "mI9Sl-pecZmS",
        "outputId": "f866e9a7-61c3-40e2-e67c-725e8d6ca831"
      },
      "execution_count": 15,
      "outputs": [
        {
          "output_type": "display_data",
          "data": {
            "text/plain": [
              "<Figure size 600x500 with 2 Axes>"
            ],
            "image/png": "[encoded data removed]"
          },
          "metadata": {}
        }
      ]
    },
    {
      "cell_type": "code",
      "source": [
        "def predict_sentiment(review, model, tokenizer, max_len=100):\n",
        "    # Convert the review to a sequence\n",
        "    seq = tokenizer.texts_to_sequences([review])\n",
        "    pad_seq = pad_sequences(seq, maxlen=max_len, padding='post', truncating='post')\n",
        "\n",
        "    # Get prediction\n",
        "    pred_prob = model.predict(pad_seq)[0][0]  # Get probability\n",
        "    sentiment = \"Positive\" if pred_prob > 0.5 else \"Negative\"\n",
        "\n",
        "    print(f\"Review: {review}\")\n",
        "    print(f\"Predicted Sentiment: {sentiment} (Confidence: {pred_prob:.4f})\")\n",
        "    print(\"-\" * 60)\n",
        "\n",
        "# Load trained model\n",
        "model = tf.keras.models.load_model(\"simple_rnn_yelp_sentiment.h5\")\n"
      ],
      "metadata": {
        "colab": {
          "base_uri": "https://localhost:8080/"
        },
        "id": "u-XdpavYcbU0",
        "outputId": "8b2f64bd-6e0a-4c89-8d93-293fd4ed0562"
      },
      "execution_count": 16,
      "outputs": [
        {
          "output_type": "stream",
          "name": "stderr",
          "text": [
            "WARNING:absl:Compiled the loaded model, but the compiled metrics have yet to be built. `model.compile_metrics` will be empty until you train or evaluate the model.\n"
          ]
        }
      ]
    },
    {
      "cell_type": "code",
      "source": [
        "example_reviews = [\n",
        "    \"This restaurant had amazing food and excellent service! I would definitely come back.\",\n",
        "    \"The pizza was cold and the service was horrible. Never going there again!\",\n",
        "    \"Meh, it was okay. Nothing special, but not terrible either.\",\n",
        "    \"Absolutely loved the ambiance and the food was top-notch!\",\n",
        "    \"The wait time was way too long, and the food was undercooked.\",\n",
        "    \"Staff was friendly, but the food was overpriced for the quality.\",\n",
        "    \"One of the best meals I’ve ever had! Highly recommend this place!\",\n",
        "    \"I regret coming here. The food was bland and the portions were tiny.\"\n",
        "]\n",
        "\n",
        "# Test each review\n",
        "for review in example_reviews:\n",
        "    predict_sentiment(review, model, tokenizer)\n"
      ],
      "metadata": {
        "colab": {
          "base_uri": "https://localhost:8080/"
        },
        "id": "rKrvEusjceHs",
        "outputId": "65c46367-c136-49e6-afbe-991764da4eb4"
      },
      "execution_count": 17,
      "outputs": [
        {
          "output_type": "stream",
          "name": "stdout",
          "text": [
            "\u001b[1m1/1\u001b[0m \u001b[32m━━━━━━━━━━━━━━━━━━━━\u001b[0m\u001b[37m\u001b[0m \u001b[1m1s\u001b[0m 1s/step   \n",
            "Review: This restaurant had amazing food and excellent service! I would definitely come back.\n",
            "Predicted Sentiment: Positive (Confidence: 0.9477)\n",
            "------------------------------------------------------------\n",
            "\u001b[1m1/1\u001b[0m \u001b[32m━━━━━━━━━━━━━━━━━━━━\u001b[0m\u001b[37m\u001b[0m \u001b[1m0s\u001b[0m 49ms/step\n",
            "Review: The pizza was cold and the service was horrible. Never going there again!\n",
            "Predicted Sentiment: Negative (Confidence: 0.0935)\n",
            "------------------------------------------------------------\n",
            "\u001b[1m1/1\u001b[0m \u001b[32m━━━━━━━━━━━━━━━━━━━━\u001b[0m\u001b[37m\u001b[0m \u001b[1m0s\u001b[0m 47ms/step\n",
            "Review: Meh, it was okay. Nothing special, but not terrible either.\n",
            "Predicted Sentiment: Negative (Confidence: 0.0939)\n",
            "------------------------------------------------------------\n",
            "\u001b[1m1/1\u001b[0m \u001b[32m━━━━━━━━━━━━━━━━━━━━\u001b[0m\u001b[37m\u001b[0m \u001b[1m0s\u001b[0m 70ms/step\n",
            "Review: Absolutely loved the ambiance and the food was top-notch!\n",
            "Predicted Sentiment: Positive (Confidence: 0.9472)\n",
            "------------------------------------------------------------\n",
            "\u001b[1m1/1\u001b[0m \u001b[32m━━━━━━━━━━━━━━━━━━━━\u001b[0m\u001b[37m\u001b[0m \u001b[1m0s\u001b[0m 50ms/step\n",
            "Review: The wait time was way too long, and the food was undercooked.\n",
            "Predicted Sentiment: Positive (Confidence: 0.9408)\n",
            "------------------------------------------------------------\n",
            "\u001b[1m1/1\u001b[0m \u001b[32m━━━━━━━━━━━━━━━━━━━━\u001b[0m\u001b[37m\u001b[0m \u001b[1m0s\u001b[0m 48ms/step\n",
            "Review: Staff was friendly, but the food was overpriced for the quality.\n",
            "Predicted Sentiment: Negative (Confidence: 0.0864)\n",
            "------------------------------------------------------------\n",
            "\u001b[1m1/1\u001b[0m \u001b[32m━━━━━━━━━━━━━━━━━━━━\u001b[0m\u001b[37m\u001b[0m \u001b[1m0s\u001b[0m 61ms/step\n",
            "Review: One of the best meals I’ve ever had! Highly recommend this place!\n",
            "Predicted Sentiment: Positive (Confidence: 0.9508)\n",
            "------------------------------------------------------------\n",
            "\u001b[1m1/1\u001b[0m \u001b[32m━━━━━━━━━━━━━━━━━━━━\u001b[0m\u001b[37m\u001b[0m \u001b[1m0s\u001b[0m 68ms/step\n",
            "Review: I regret coming here. The food was bland and the portions were tiny.\n",
            "Predicted Sentiment: Negative (Confidence: 0.1044)\n",
            "------------------------------------------------------------\n"
          ]
        }
      ]
    },
    {
      "cell_type": "code",
      "source": [],
      "metadata": {
        "id": "SoZ_CW8FcgTX"
      },
      "execution_count": null,
      "outputs": []
    }
  ]
}